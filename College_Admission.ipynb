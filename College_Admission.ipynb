{
 "cells": [
  {
   "cell_type": "markdown",
   "id": "499b1770-ff5a-4a14-8715-9993151cb53e",
   "metadata": {},
   "source": [
    "# Project - College Admission\n",
    "### Nan Zhao"
   ]
  },
  {
   "cell_type": "markdown",
   "id": "fa480ab4-8955-4dea-a51a-5625b6ab0326",
   "metadata": {},
   "source": [
    "## Objective of the Proposed Research"
   ]
  },
  {
   "cell_type": "markdown",
   "id": "fe2935f5-ba8e-41ee-a0a0-890bd5c0e43d",
   "metadata": {},
   "source": [
    "The faculty in the Data Science Program at the University of the Pacific plans to evaluate the applicants for next year's cohort. To find the 5 most fit candidates in order of priority with their most salient characteristics, the faculty needs to know about every candidate's application forms.  \n",
    "The objective of this research is to help the faculty find the qualified candidates and the 5 most fit candidates in order of priority with their most salient characteristics.  \n",
    "To achieve this objective, I'll read the Criteria for Admission, and gathers the prerequisite entry requirements. Then I'll loop through the Candidates.csv file to identify candidates qualified for admission. After that, I'll prioritize the candidates based on their educational background and how much their skills match the criteria for admission.  \n",
    "  \n",
    "I have 15 txt file for candidates' application forms. Each application form contains the candidate's name, skills, education, and passion. But some application forms have errors like spaces, blank lines, or missing contents.  \n",
    "I have one csv file called Candidates.csv that contains a list of 15 candidates, including the name of the candidate and the name of the text file containing his/her form.   \n",
    "I have one txt file called Criteria.txt that contains the Criteria for Admission. This file contains prerequisite entry requirements and detailed admission priorities.   \n"
   ]
  },
  {
   "cell_type": "markdown",
   "id": "ac4106d1-6c27-4f00-ac3e-1189201ef1b7",
   "metadata": {},
   "source": [
    "## Explanation of Data Sources"
   ]
  },
  {
   "cell_type": "markdown",
   "id": "6a16b332-e91f-42da-bf53-9561ef50ddce",
   "metadata": {},
   "source": [
    "I created the text files for candidates' application forms from scratch based on the related educational background and prerequisite programming skills in data science.  \n",
    "Each application form contains the candidate's name, skills, education, and passion. The candidate's names are nicknames. Their skills contain 'C', 'C++', 'Java', 'JavaScript', 'Python', 'R', 'ML', 'SQL', 'Excel', and 'NoSQL'. They have different passions which are their future career direction.  \n",
    "The prerequisite entry requirements of Data Science Program include a Bachelors degree, Python and SQL. The candidates will be prioritized based on their educational background and computer programming of C and C++.  "
   ]
  },
  {
   "cell_type": "markdown",
   "id": "3823cea7-4460-4fea-ad89-e1db49c5001c",
   "metadata": {},
   "source": [
    "## Explanation of the steps of the algorithm"
   ]
  },
  {
   "cell_type": "markdown",
   "id": "4933fea6-dcbe-49bb-b0c6-ff69552abb59",
   "metadata": {},
   "source": [
    "The objective of this research is to help the faculty find the qualified candidates and the 5 most fit candidates in order of priority with their most salient characteristics.  \n",
    "To achieve this objective, I'll identify candidates qualified for admission, then I'll prioritize the candidates based on their educational background and their skills.  \n",
    "First, I read the Criteria for Admission, and gathers the prerequisite entry requirements.  \n",
    "Second, I loop through the Candidates.csv file to identify all qualified candidates. They both have a Bachelors degree and have programming skills of Python and SQL.  \n",
    "Third, I use priorities() function to prioritize the candidates based on their educational background and computer programming of C and C++.  \n",
    "Finally, I create a text file called ToAccept.csv that contains a list of the 5 most fit candidates in order of priority."
   ]
  },
  {
   "cell_type": "markdown",
   "id": "df9244e1-4999-4f49-8291-8fa41332bb12",
   "metadata": {},
   "source": [
    "## Cleanup performed in Python with Explanation"
   ]
  },
  {
   "cell_type": "markdown",
   "id": "4714d7c7-49dc-4a8e-b7b4-4cfdf1e531fd",
   "metadata": {},
   "source": [
    "I have 15 txt file for candidates' application forms. Each application form contains the candidate's name, skills, education, and passion.  \n",
    "To precisely filter qualified candidates, I skip the lines of candidates' passions by using join() method and find() method. Some forms didn't contain their passion, but this will not impact the results.  \n",
    "Some application forms have errors like spaces, blank lines, or missing contents. For example, Jennifer's form has some blank lines, but it will not impact python to loop through the txt file or impact the results.   \n",
    "Jennifer's form also has some blanks: '  Skills  : Python'. In order to identify her skills, join() method in Python could join lists as a string, then find() method in Python could determine if the string 'Python' is a substring in her form.  "
   ]
  },
  {
   "cell_type": "markdown",
   "id": "252066c2-3f9d-4a73-8f4a-7d47468a8871",
   "metadata": {},
   "source": [
    "### 1. Reads the Criteria for Admission, and gathers the prerequisite entry requirements."
   ]
  },
  {
   "cell_type": "code",
   "execution_count": 1,
   "id": "5901bf6c-09c6-475c-837a-c3b34ca4043a",
   "metadata": {},
   "outputs": [
    {
     "name": "stdout",
     "output_type": "stream",
     "text": [
      "Data Science Program Overview\n",
      "The MS in Data Science prepares graduates for careers in data analytics and related fields.  This is a science (as opposed to business) based program that is focused on developing students’ math foundation in statistics and linear algebra, and computer programming to prepare them for coursework in topics like machine learning, time series analysis, customer analytics, and data visualization.\n",
      "\n",
      "This 32-unit, 4-semester degree culminates in a Capstone Project, in which students work on an analytics problem with a corporation in the Silicon Valley/Northern California region.\n",
      "\n",
      "Prerequisite entry requirements include:\n",
      "Educational Requirements: A Bachelors degree\n",
      "Skills Requirements: Python, SQL\n",
      "\n",
      "Priorities:\n",
      "1. MS in Computer Science, MS in Data Science, MS in Applied Mathematics, MS in Applied Statistics, MS in Informatics\n",
      "2. BS in Computer Science, BS in Data Science, BS in Applied Mathematics, BS in Applied Statistics, BS in Informatics\n",
      "3. C\n",
      "4. C++\n",
      "\n"
     ]
    }
   ],
   "source": [
    "for i in open('Criteria.txt'):\n",
    "    print(i[:-1])"
   ]
  },
  {
   "cell_type": "markdown",
   "id": "70b79a5e-a330-4684-97bc-a869d660ef5c",
   "metadata": {},
   "source": [
    "### 2. Loop through the Candidates.csv file to identify all qualified candidates. "
   ]
  },
  {
   "cell_type": "code",
   "execution_count": 2,
   "id": "4390f737-ea4a-4962-be4a-cc412634b79d",
   "metadata": {},
   "outputs": [],
   "source": [
    "import numpy as np\n",
    "import pandas as pd\n",
    "import csv"
   ]
  },
  {
   "cell_type": "code",
   "execution_count": 3,
   "id": "11034046-9590-4169-96a2-9e16b0a5b6f0",
   "metadata": {},
   "outputs": [
    {
     "data": {
      "text/html": [
       "<div>\n",
       "<style scoped>\n",
       "    .dataframe tbody tr th:only-of-type {\n",
       "        vertical-align: middle;\n",
       "    }\n",
       "\n",
       "    .dataframe tbody tr th {\n",
       "        vertical-align: top;\n",
       "    }\n",
       "\n",
       "    .dataframe thead th {\n",
       "        text-align: right;\n",
       "    }\n",
       "</style>\n",
       "<table border=\"1\" class=\"dataframe\">\n",
       "  <thead>\n",
       "    <tr style=\"text-align: right;\">\n",
       "      <th></th>\n",
       "      <th>Name</th>\n",
       "      <th>File Name</th>\n",
       "    </tr>\n",
       "  </thead>\n",
       "  <tbody>\n",
       "    <tr>\n",
       "      <th>0</th>\n",
       "      <td>Jennifer</td>\n",
       "      <td>1.txt</td>\n",
       "    </tr>\n",
       "    <tr>\n",
       "      <th>1</th>\n",
       "      <td>Michelle</td>\n",
       "      <td>2.txt</td>\n",
       "    </tr>\n",
       "    <tr>\n",
       "      <th>2</th>\n",
       "      <td>Kathy</td>\n",
       "      <td>3.txt</td>\n",
       "    </tr>\n",
       "    <tr>\n",
       "      <th>3</th>\n",
       "      <td>Martha</td>\n",
       "      <td>4.txt</td>\n",
       "    </tr>\n",
       "    <tr>\n",
       "      <th>4</th>\n",
       "      <td>Sara</td>\n",
       "      <td>5.txt</td>\n",
       "    </tr>\n",
       "  </tbody>\n",
       "</table>\n",
       "</div>"
      ],
      "text/plain": [
       "       Name File Name\n",
       "0  Jennifer     1.txt\n",
       "1  Michelle     2.txt\n",
       "2     Kathy     3.txt\n",
       "3    Martha     4.txt\n",
       "4      Sara     5.txt"
      ]
     },
     "execution_count": 3,
     "metadata": {},
     "output_type": "execute_result"
    }
   ],
   "source": [
    "df = pd.read_csv('Candidates.csv',header=None,names=['Name','File Name'],skiprows=3)\n",
    "df.head()"
   ]
  },
  {
   "cell_type": "code",
   "execution_count": 4,
   "id": "cedddaa4-9687-4bd6-8e09-a96bdef2fbf8",
   "metadata": {},
   "outputs": [
    {
     "name": "stdout",
     "output_type": "stream",
     "text": [
      "[]\n",
      "['Name: Jennifer']\n",
      "[]\n",
      "[]\n",
      "['  Skills  : Python', 'C++', 'Java', 'JavaScript', 'C', 'R', 'ML', 'SQL', 'Excel', 'NoSQL']\n",
      "['MS in Computer Science']\n",
      "['Passion: Sentiment Analysis and Opinion Mining']\n",
      "['Michelle']\n",
      "['C', 'C++', 'Java', 'JavaScript', 'Python', 'SQL', 'ML']\n",
      "['MS in Computer Science']\n",
      "['Passion: Consumer Analytics']\n",
      "['Name: Kathy']\n",
      "['Skills: Python', 'C', 'C++', 'Java', 'JavaScript', 'ML', 'SQL']\n",
      "['BS in Data Science']\n",
      "['Passion: Time Series Analysis']\n"
     ]
    }
   ],
   "source": [
    "# Print the first three application forms\n",
    "# Some application forms have errors like spaces, blank lines, or missing contents.\n",
    "\n",
    "def print_forms(filename):\n",
    "    candidate = []\n",
    "    with open(filename, 'r') as candidate_file:\n",
    "        candidate_array = csv.reader(candidate_file)\n",
    "        for row in candidate_array:\n",
    "            print(row)\n",
    "    candidate_file.close()\n",
    "\n",
    "filename = df.iloc[:,1]\n",
    "for i in filename[:3]:\n",
    "    print_forms(i)"
   ]
  },
  {
   "cell_type": "code",
   "execution_count": 5,
   "id": "4853b6dd-8291-4157-903d-5babd011f391",
   "metadata": {},
   "outputs": [],
   "source": [
    "# Based on the Criteria for Admission, requirements() method corresponds to the the prerequisite entry requirements.\n",
    "# The prerequisite entry requirements of Data Science Program include a Bachelors degree, skills of Python and SQL."
   ]
  },
  {
   "cell_type": "code",
   "execution_count": 6,
   "id": "bbbd912d-c752-44cd-8814-7ea3b0f3de8b",
   "metadata": {},
   "outputs": [],
   "source": [
    "def requirements(filename):\n",
    "    candidate = []\n",
    "    with open(filename, 'r') as candidate_file:\n",
    "        candidate_array = csv.reader(candidate_file)\n",
    "        for row in candidate_array:\n",
    "            row = \"\".join(row)   #In order to identify her skills, join() method could join lists as a string\n",
    "            if (row.find('Passion') != -1) or (row.find('passion') != -1):  #Cleanup: skip the lines of passions to precisely filter the criteria.\n",
    "                continue\n",
    "            if (row.find('Python') != -1) and (row.find('SQL') != -1):  #find() method could determine if the string 'Python' is a substring in her form.\n",
    "                for row in candidate_array:\n",
    "                    row = \"\".join(row)     \n",
    "                    if (row.find('Passion') != -1) or (row.find('passion') != -1):\n",
    "                        continue\n",
    "                    if (row.find('BS') != -1) or (row.find('MS') != -1) or (row.find('phD') != -1):  \n",
    "                        candidate.append(candidate_file.name)\n",
    "                    \n",
    "    candidate_file.close()\n",
    "    return candidate"
   ]
  },
  {
   "cell_type": "code",
   "execution_count": 7,
   "id": "9fc1e610-ccb7-4dbc-8b0c-33e96a887631",
   "metadata": {},
   "outputs": [],
   "source": [
    "# The list of acceptable_candidates contains all qualified candidates."
   ]
  },
  {
   "cell_type": "code",
   "execution_count": 8,
   "id": "a74c47dc-d0e8-423e-a057-ed18e230143d",
   "metadata": {},
   "outputs": [
    {
     "data": {
      "text/plain": [
       "[['1.txt'], ['2.txt'], ['3.txt'], ['4.txt'], ['5.txt'], ['9.txt']]"
      ]
     },
     "execution_count": 8,
     "metadata": {},
     "output_type": "execute_result"
    }
   ],
   "source": [
    "acceptable_candidates=[]\n",
    "\n",
    "for i in range(df.shape[0]):\n",
    "    acceptable_candidates.append(requirements(filename[i]))\n",
    "while [] in acceptable_candidates:\n",
    "    acceptable_candidates.remove([])  #remove empty lists\n",
    "    \n",
    "acceptable_candidates"
   ]
  },
  {
   "cell_type": "markdown",
   "id": "cdaba463-5561-40a0-a39d-0158d46ddb90",
   "metadata": {},
   "source": [
    "### 3. Prioritize the candidates based on their educational background and computer programming skills of C and C++."
   ]
  },
  {
   "cell_type": "code",
   "execution_count": 9,
   "id": "1de0412b-1f00-4f28-814a-b31788f30c64",
   "metadata": {},
   "outputs": [],
   "source": [
    "# priorities() method - Prioritize the candidates based on their educational background and computer programming of C and C++."
   ]
  },
  {
   "cell_type": "code",
   "execution_count": 10,
   "id": "ae055ad8-7ce9-4c28-88e1-b64c439f1dd4",
   "metadata": {},
   "outputs": [],
   "source": [
    "def priorities(filename):\n",
    "    first=[]\n",
    "    second=[]\n",
    "    third=[]\n",
    "    forth=[]\n",
    "    with open(filename, 'r') as candidate_file:\n",
    "        candidate_array = csv.reader(candidate_file)\n",
    "        for row in candidate_array:\n",
    "            if ('MS in Computer Science' in row) or ('MS in Data Science' in row) or ('MS in Applied Mathematics' in row) or ('MS in Applied Statistics' in row)  or ('MS in Informatics' in row):\n",
    "                first.append(candidate_file.name)\n",
    "            if ('BS in Computer Science' in row) or ('BS in Data Science' in row) or ('BS in Applied Mathematics' in row) or ('BS in Applied Statistics' in row)  or ('BS in Informatics' in row):\n",
    "                second.append(candidate_file.name)\n",
    "            if ('C' in row):\n",
    "                third.append(candidate_file.name)\n",
    "            if ('C++' in row):\n",
    "                forth.append(candidate_file.name)\n",
    "    candidate_file.close()\n",
    "    return first, second, third, forth"
   ]
  },
  {
   "cell_type": "code",
   "execution_count": 11,
   "id": "25dcbd9f-b56c-4aa6-ad76-8f96285e2aca",
   "metadata": {},
   "outputs": [],
   "source": [
    "first_l=[]\n",
    "second_l=[]\n",
    "third_l=[]\n",
    "forth_l=[]\n",
    "final=[]\n",
    "\n",
    "for i in range(len(acceptable_candidates)):\n",
    "    first, second, third, forth = priorities(\"\".join(acceptable_candidates[i]))    \n",
    "    first_l.append(first)    \n",
    "    second_l.append(second)\n",
    "    third_l.append(third)\n",
    "    forth_l.append(forth)"
   ]
  },
  {
   "cell_type": "code",
   "execution_count": 12,
   "id": "7e73d453-ead8-4b74-870d-32faafd00d4c",
   "metadata": {},
   "outputs": [],
   "source": [
    "final = first_l + second_l + third_l + forth_l"
   ]
  },
  {
   "cell_type": "code",
   "execution_count": 13,
   "id": "25f537f6-cae9-4b4f-8844-f5093c6fd2d8",
   "metadata": {},
   "outputs": [],
   "source": [
    "while [] in final:\n",
    "    final.remove([])"
   ]
  },
  {
   "cell_type": "code",
   "execution_count": 14,
   "id": "ed795ecb-2c4c-4de0-bed8-ceca809a24b4",
   "metadata": {},
   "outputs": [],
   "source": [
    "# The list of final_l contains all qualified candidates in order of priority."
   ]
  },
  {
   "cell_type": "code",
   "execution_count": 15,
   "id": "fe294826-201e-4294-99a0-9d7502a252ab",
   "metadata": {},
   "outputs": [
    {
     "data": {
      "text/plain": [
       "[['1.txt'], ['2.txt'], ['4.txt'], ['9.txt'], ['3.txt'], ['5.txt']]"
      ]
     },
     "execution_count": 15,
     "metadata": {},
     "output_type": "execute_result"
    }
   ],
   "source": [
    "final_l = []\n",
    "for i in final:\n",
    "    if not i in final_l:\n",
    "        final_l.append(i)\n",
    "final_l"
   ]
  },
  {
   "cell_type": "markdown",
   "id": "1ce5913f-56a2-447b-aaea-aa08996eb50e",
   "metadata": {},
   "source": [
    "### 4. Creates a text file called ToAccept.csv that contains a list of the 5 most fit candidates in order of priority."
   ]
  },
  {
   "cell_type": "code",
   "execution_count": 16,
   "id": "a7674088-695f-4394-b3a3-f5bf10906983",
   "metadata": {},
   "outputs": [],
   "source": [
    "# final_list contains the 5 most fit candidates in order of priority."
   ]
  },
  {
   "cell_type": "code",
   "execution_count": 17,
   "id": "d6231bf9-84ad-4150-9ba1-12ed991c04f4",
   "metadata": {},
   "outputs": [
    {
     "data": {
      "text/plain": [
       "[['1.txt'], ['2.txt'], ['4.txt'], ['9.txt'], ['3.txt']]"
      ]
     },
     "execution_count": 17,
     "metadata": {},
     "output_type": "execute_result"
    }
   ],
   "source": [
    "final_list=final_l[:5]\n",
    "final_list"
   ]
  },
  {
   "cell_type": "code",
   "execution_count": 18,
   "id": "77fc287b-1d3d-45cc-baf2-9046be95c662",
   "metadata": {},
   "outputs": [
    {
     "data": {
      "text/plain": [
       "[['Jennifer'], ['Michelle'], ['Martha'], ['Julia'], ['Kathy']]"
      ]
     },
     "execution_count": 18,
     "metadata": {},
     "output_type": "execute_result"
    }
   ],
   "source": [
    "name=[]\n",
    "for i in final_list:\n",
    "    name.append(df[df['File Name'].isin(i)].iloc[:,0])\n",
    "name = np.array(name).tolist()\n",
    "name"
   ]
  },
  {
   "cell_type": "code",
   "execution_count": 19,
   "id": "5b4b550e-d702-4ef9-9857-de5c38f7bd15",
   "metadata": {},
   "outputs": [],
   "source": [
    "edu = ['MS in Computer Science', 'MS in Data Science', 'MS in Applied Mathematics', 'MS in Applied Statistics', 'MS in Informatics', 'BS in Computer Science', 'BS in Data Science', 'BS in Applied Mathematics', 'BS in Applied Statistics', 'BS in Informatics']"
   ]
  },
  {
   "cell_type": "code",
   "execution_count": 20,
   "id": "a5ae6da5-af1c-4b8d-b084-ced58306e659",
   "metadata": {},
   "outputs": [],
   "source": [
    "# print_forms() method filter and output the candidates' most salient characteristics."
   ]
  },
  {
   "cell_type": "code",
   "execution_count": 21,
   "id": "bc2b8f33-7d4e-4829-998e-04d468f9a02b",
   "metadata": {},
   "outputs": [],
   "source": [
    "def print_forms(filename):\n",
    "    l = []\n",
    "    with open(filename, 'r') as candidate_file:\n",
    "        candidate_array = csv.reader(candidate_file)\n",
    "        for row in candidate_array:\n",
    "\n",
    "            if (set(['C']).issubset(set(row))):\n",
    "                l.append('C')\n",
    "\n",
    "            if (set(['C++']).issubset(set(row))):\n",
    "                l.append('C++')\n",
    "            \n",
    "            for i in edu:\n",
    "                if i in row:\n",
    "                    l.append(i)\n",
    "\n",
    "    candidate_file.close()\n",
    "    return l                   "
   ]
  },
  {
   "cell_type": "code",
   "execution_count": 22,
   "id": "47d50a87-7a29-4f4b-95e3-07616af5b496",
   "metadata": {},
   "outputs": [],
   "source": [
    "l1=name[0] + print_forms(final_list[0][0])\n",
    "l2=name[1] + print_forms(final_list[1][0])\n",
    "l3=name[2] + print_forms(final_list[2][0])\n",
    "l4=name[3] + print_forms(final_list[3][0])\n",
    "l5=name[4] + print_forms(final_list[4][0])"
   ]
  },
  {
   "cell_type": "code",
   "execution_count": 23,
   "id": "63d14a3b-0aed-4b97-8b91-168e48cbc62c",
   "metadata": {},
   "outputs": [
    {
     "data": {
      "text/plain": [
       "[['Jennifer', 'MS in Computer Science', 'C', 'C++'],\n",
       " ['Michelle', 'MS in Computer Science', 'C', 'C++'],\n",
       " ['Martha', 'MS in Computer Science', 'C', 'C++'],\n",
       " ['Julia', 'MS in Data Science'],\n",
       " ['Kathy', 'BS in Data Science', 'C', 'C++']]"
      ]
     },
     "execution_count": 23,
     "metadata": {},
     "output_type": "execute_result"
    }
   ],
   "source": [
    "l1.insert(1,l1[-1])\n",
    "l1.pop()\n",
    "l2.insert(1,l2[-1])\n",
    "l2.pop()\n",
    "l3.insert(1,l3[-1])\n",
    "l3.pop()\n",
    "l4.insert(1,l4[-1])\n",
    "l4.pop()\n",
    "l5.insert(1,l5[-1])\n",
    "l5.pop()\n",
    "\n",
    "l=[l1,l2,l3,l4,l5]\n",
    "l"
   ]
  },
  {
   "cell_type": "code",
   "execution_count": 24,
   "id": "4234df7d-1f7f-410d-a7e0-3d1c720a8ac6",
   "metadata": {},
   "outputs": [],
   "source": [
    "# Create the text file called ToAccept.csv that contains a list of the 5 most fit candidates in order of priority with their most salient characteristics."
   ]
  },
  {
   "cell_type": "code",
   "execution_count": 25,
   "id": "7ff0db02-c563-409c-bc82-4aa9685921aa",
   "metadata": {},
   "outputs": [],
   "source": [
    "with open(\"ToAccept.csv\", \"w\", newline='') as csvfile:\n",
    "    writer = csv.writer(csvfile)\n",
    "    writer.writerows(l)  \n",
    "csvfile.close()"
   ]
  },
  {
   "cell_type": "code",
   "execution_count": 26,
   "id": "9b44d8b1-f14b-4810-98fb-1aec8275496d",
   "metadata": {},
   "outputs": [],
   "source": [
    "# Read the file ToAccept.csv"
   ]
  },
  {
   "cell_type": "code",
   "execution_count": 27,
   "id": "62d32f13-8d7f-4b6a-8db8-b9ed9a7c961c",
   "metadata": {},
   "outputs": [
    {
     "name": "stdout",
     "output_type": "stream",
     "text": [
      "['Jennifer', 'MS in Computer Science', 'C', 'C++']\n",
      "['Michelle', 'MS in Computer Science', 'C', 'C++']\n",
      "['Martha', 'MS in Computer Science', 'C', 'C++']\n",
      "['Julia', 'MS in Data Science']\n",
      "['Kathy', 'BS in Data Science', 'C', 'C++']\n"
     ]
    }
   ],
   "source": [
    "with open(\"ToAccept.csv\", \"r\", newline='') as csvfile:\n",
    "    l = csv.reader(csvfile)\n",
    "    for row in l:\n",
    "        print(row)\n",
    "csvfile.close()"
   ]
  },
  {
   "cell_type": "code",
   "execution_count": null,
   "id": "887b0cfa-0606-4c0a-a52f-808d44949cba",
   "metadata": {},
   "outputs": [],
   "source": []
  }
 ],
 "metadata": {
  "kernelspec": {
   "display_name": "Python 3",
   "language": "python",
   "name": "python3"
  },
  "language_info": {
   "codemirror_mode": {
    "name": "ipython",
    "version": 3
   },
   "file_extension": ".py",
   "mimetype": "text/x-python",
   "name": "python",
   "nbconvert_exporter": "python",
   "pygments_lexer": "ipython3",
   "version": "3.8.8"
  }
 },
 "nbformat": 4,
 "nbformat_minor": 5
}
